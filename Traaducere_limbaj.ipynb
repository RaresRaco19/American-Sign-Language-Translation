{
  "cells": [
    {
      "cell_type": "code",
      "execution_count": null,
      "metadata": {
        "id": "9f855941"
      },
      "outputs": [],
      "source": [
        "import pandas as pd\n",
        "import numpy as np\n",
        "import tensorflow as tf\n",
        "from tensorflow import keras\n",
        "from tensorflow.keras import layers\n",
        "from skimage.transform import resize\n",
        "from sklearn.model_selection import train_test_split\n",
        "import json\n",
        "from tqdm import tqdm\n",
        "import matplotlib.pyplot as plt\n",
        "import Levenshtein as lev\n",
        "import os\n",
        "import gc"
      ]
    },
    {
      "cell_type": "code",
      "execution_count": null,
      "metadata": {
        "id": "b94157ba"
      },
      "outputs": [],
      "source": [
        "pad_token = 'P'\n",
        "start_token = 'S'\n",
        "end_token = 'E'\n",
        "pad_token_idx = 59\n",
        "start_token_idx = 60\n",
        "end_token_idx = 61"
      ]
    },
    {
      "cell_type": "code",
      "execution_count": null,
      "metadata": {
        "id": "nTbX8Y-TCF-f"
      },
      "outputs": [],
      "source": [
        "from google.colab import drive\n",
        "drive.mount('/content/drive')"
      ]
    },
    {
      "cell_type": "code",
      "execution_count": null,
      "metadata": {
        "id": "eaef633e"
      },
      "outputs": [],
      "source": [
        "with open (\"/content/drive/MyDrive/Dataset/asl-fingerspelling/character_to_prediction_index.json\", \"r\") as f:\n",
        "    char_to_num = json.load(f)\n",
        "\n",
        "char_to_num[pad_token] = pad_token_idx\n",
        "char_to_num[start_token] = start_token_idx\n",
        "char_to_num[end_token] = end_token_idx\n",
        "num_to_char = {j:i for i,j in char_to_num.items()}\n",
        "\n",
        "inpdir = \"/content/drive/MyDrive/Dataset/asl-fingerspelling\"\n",
        "df = pd.read_csv(f'{inpdir}/train.csv')\n",
        "\n",
        "LPOSE = [13, 15, 17, 19, 21]\n",
        "RPOSE = [14, 16, 18, 20, 22]\n",
        "POSE = LPOSE + RPOSE\n",
        "\n",
        "RHAND_LBLS = [f'x_right_hand_{i}' for i in range(21)] + [f'y_right_hand_{i}' for i in range(21)] + [f'z_right_hand_{i}' for i in range(21)]\n",
        "LHAND_LBLS = [ f'x_left_hand_{i}' for i in range(21)] + [ f'y_left_hand_{i}' for i in range(21)] + [ f'z_left_hand_{i}' for i in range(21)]\n",
        "POSE_LBLS = [f'x_pose_{i}' for i in POSE] + [f'y_pose_{i}' for i in POSE] + [f'z_pose_{i}' for i in POSE]\n",
        "\n",
        "X = [f'x_right_hand_{i}' for i in range(21)] + [f'x_left_hand_{i}' for i in range(21)] + [f'x_pose_{i}' for i in POSE]\n",
        "Y = [f'y_right_hand_{i}' for i in range(21)] + [f'y_left_hand_{i}' for i in range(21)] + [f'y_pose_{i}' for i in POSE]\n",
        "Z = [f'z_right_hand_{i}' for i in range(21)] + [f'z_left_hand_{i}' for i in range(21)] + [f'z_pose_{i}' for i in POSE]\n",
        "\n",
        "SEL_COLS = X + Y + Z\n",
        "FRAME_LEN = 128\n",
        "\n",
        "X_IDX = [i for i, col in enumerate(SEL_COLS)  if \"x_\" in col]\n",
        "Y_IDX = [i for i, col in enumerate(SEL_COLS)  if \"y_\" in col]\n",
        "Z_IDX = [i for i, col in enumerate(SEL_COLS)  if \"z_\" in col]\n",
        "\n",
        "RHAND_IDX = [i for i, col in enumerate(SEL_COLS)  if \"right\" in col]\n",
        "LHAND_IDX = [i for i, col in enumerate(SEL_COLS)  if  \"left\" in col]\n",
        "RPOSE_IDX = [i for i, col in enumerate(SEL_COLS)  if  \"pose\" in col and int(col[-2:]) in RPOSE]\n",
        "LPOSE_IDX = [i for i, col in enumerate(SEL_COLS)  if  \"pose\" in col and int(col[-2:]) in LPOSE]"
      ]
    },
    {
      "cell_type": "code",
      "execution_count": null,
      "metadata": {
        "id": "37ae06d6"
      },
      "outputs": [],
      "source": [
        "def resize_pad(x):\n",
        "    if tf.shape(x)[0] < FRAME_LEN:\n",
        "        x = tf.pad(x, ([[0, FRAME_LEN-tf.shape(x)[0]], [0, 0], [0, 0]]))\n",
        "    else:\n",
        "        x = tf.image.resize(x, (FRAME_LEN, tf.shape(x)[1]))\n",
        "    return x\n",
        "\n",
        "def pre_process(x):\n",
        "    rhand = tf.gather(x, RHAND_IDX, axis=1)\n",
        "    lhand = tf.gather(x, LHAND_IDX, axis=1)\n",
        "    rpose = tf.gather(x, RPOSE_IDX, axis=1)\n",
        "    lpose = tf.gather(x, LPOSE_IDX, axis=1)\n",
        "\n",
        "    rnan_idx = tf.reduce_any(tf.math.is_nan(rhand), axis=1)\n",
        "    lnan_idx = tf.reduce_any(tf.math.is_nan(lhand), axis=1)\n",
        "\n",
        "    rnans = tf.math.count_nonzero(rnan_idx)\n",
        "    lnans = tf.math.count_nonzero(lnan_idx)\n",
        "\n",
        "    # For dominant hand\n",
        "    if rnans > lnans:\n",
        "        hand = lhand\n",
        "        pose = lpose\n",
        "\n",
        "        hand_x = hand[:, 0*(len(LHAND_IDX)//3) : 1*(len(LHAND_IDX)//3)]\n",
        "        hand_y = hand[:, 1*(len(LHAND_IDX)//3) : 2*(len(LHAND_IDX)//3)]\n",
        "        hand_z = hand[:, 2*(len(LHAND_IDX)//3) : 3*(len(LHAND_IDX)//3)]\n",
        "        hand = tf.concat([1-hand_x, hand_y, hand_z], axis=1)\n",
        "\n",
        "        pose_x = pose[:, 0*(len(LPOSE_IDX)//3) : 1*(len(LPOSE_IDX)//3)]\n",
        "        pose_y = pose[:, 1*(len(LPOSE_IDX)//3) : 2*(len(LPOSE_IDX)//3)]\n",
        "        pose_z = pose[:, 2*(len(LPOSE_IDX)//3) : 3*(len(LPOSE_IDX)//3)]\n",
        "        pose = tf.concat([1-pose_x, pose_y, pose_z], axis=1)\n",
        "    else:\n",
        "        hand = rhand\n",
        "        pose = rpose\n",
        "\n",
        "    hand_x = hand[:, 0*(len(LHAND_IDX)//3) : 1*(len(LHAND_IDX)//3)]\n",
        "    hand_y = hand[:, 1*(len(LHAND_IDX)//3) : 2*(len(LHAND_IDX)//3)]\n",
        "    hand_z = hand[:, 2*(len(LHAND_IDX)//3) : 3*(len(LHAND_IDX)//3)]\n",
        "    hand = tf.concat([hand_x[..., tf.newaxis], hand_y[..., tf.newaxis], hand_z[..., tf.newaxis]], axis=-1)\n",
        "\n",
        "    mean = tf.math.reduce_mean(hand, axis=1)[:, tf.newaxis, :]\n",
        "    std = tf.math.reduce_std(hand, axis=1)[:, tf.newaxis, :]\n",
        "    hand = (hand - mean) / std\n",
        "\n",
        "    pose_x = pose[:, 0*(len(LPOSE_IDX)//3) : 1*(len(LPOSE_IDX)//3)]\n",
        "    pose_y = pose[:, 1*(len(LPOSE_IDX)//3) : 2*(len(LPOSE_IDX)//3)]\n",
        "    pose_z = pose[:, 2*(len(LPOSE_IDX)//3) : 3*(len(LPOSE_IDX)//3)]\n",
        "    pose = tf.concat([pose_x[..., tf.newaxis], pose_y[..., tf.newaxis], pose_z[..., tf.newaxis]], axis=-1)\n",
        "\n",
        "    x = tf.concat([hand, pose], axis=1)\n",
        "    x = resize_pad(x)\n",
        "\n",
        "    x = tf.where(tf.math.is_nan(x), tf.zeros_like(x), x)\n",
        "    x = tf.reshape(x, (FRAME_LEN, len(LHAND_IDX) + len(LPOSE_IDX)))\n",
        "    return x"
      ]
    },
    {
      "cell_type": "code",
      "execution_count": null,
      "metadata": {
        "id": "a7f7ec60"
      },
      "outputs": [],
      "source": [
        "table = tf.lookup.StaticHashTable(\n",
        "    initializer=tf.lookup.KeyValueTensorInitializer(\n",
        "        keys=list(char_to_num.keys()),\n",
        "        values=list(char_to_num.values()),\n",
        "    ),\n",
        "    default_value=tf.constant(-1),\n",
        "    name=\"class_weight\"\n",
        ")\n",
        "\n",
        "def preprocess_fn(landmarks, phrase):\n",
        "    phrase = start_token + phrase + end_token\n",
        "    phrase = tf.strings.bytes_split(phrase)\n",
        "    phrase = table.lookup(phrase)\n",
        "    phrase = tf.pad(phrase, paddings=[[0, 64 - tf.shape(phrase)[0]]], mode = 'CONSTANT',\n",
        "                    constant_values = pad_token_idx)\n",
        "    return pre_process(landmarks), phrase\n",
        "\n",
        "def decode_fn(record_bytes):\n",
        "    schema = {COL: tf.io.VarLenFeature(dtype=tf.float32) for COL in SEL_COLS}\n",
        "    schema[\"phrase\"] = tf.io.FixedLenFeature([], dtype=tf.string)\n",
        "    features = tf.io.parse_single_example(record_bytes, schema)\n",
        "    phrase = features[\"phrase\"]\n",
        "    landmarks = ([tf.sparse.to_dense(features[COL]) for COL in SEL_COLS])\n",
        "    landmarks = tf.transpose(landmarks)\n",
        "\n",
        "    return landmarks, phrase\n",
        "\n",
        "inpdir = \"/content/drive/MyDrive/Dataset/asl-fingerspelling\"\n",
        "tffiles = df.file_id.map(lambda x: f'{inpdir}/tfds/{x}.tfrecord').unique()\n",
        "\n",
        "batch_size = 32\n",
        "val_len = int(0.05 * len(tffiles))\n",
        "\n",
        "train_dataset = tf.data.TFRecordDataset(tffiles[val_len:]).map(decode_fn).map(preprocess_fn).shuffle(30000, reshuffle_each_iteration=True).batch(batch_size).prefetch(buffer_size=tf.data.AUTOTUNE)\n",
        "val_dataset = tf.data.TFRecordDataset(tffiles[:val_len]).map(decode_fn).map(preprocess_fn).batch(batch_size).prefetch(buffer_size=tf.data.AUTOTUNE)"
      ]
    },
    {
      "cell_type": "code",
      "execution_count": null,
      "metadata": {
        "id": "39Ar11ltB-nu"
      },
      "outputs": [],
      "source": [
        "\n",
        "\n",
        "def positional_enc(len: int,depth: int):\n",
        "  depth=depth/2\n",
        "  position=tf.range(len,dtype=tf.float32)[...,tf.newaxis]\n",
        "  depths=tf.range(depth,dtype=tf.float32)[np.newaxis,:]/depth\n",
        "  angles_rates=tf.math.divide(1, tf.math.pow(tf.cast(10000, tf.float32), depths))\n",
        "  angles_rads=tf.linalg.matmul(position, angles_rates)\n",
        "  pos_enc=tf.concat(\n",
        "          [tf.math.sin(angles_rads), tf.math.cos(angles_rads)],\n",
        "          axis=-1)\n",
        "  return pos_enc\n",
        "\n",
        "class PositionalEmbedding(tf.keras.layers.Layer):\n",
        "  def __init__(self, d_model=64, maxlen=100):\n",
        "        super().__init__()\n",
        "        self.conv1 = tf.keras.layers.Conv1D(\n",
        "            d_model, 11, padding=\"same\", activation=\"relu\"\n",
        "        )\n",
        "        self.conv2 = tf.keras.layers.Conv1D(\n",
        "            d_model, 11, padding=\"same\", activation=\"relu\"\n",
        "        )\n",
        "        self.conv3 = tf.keras.layers.Conv1D(\n",
        "            d_model, 11, padding=\"same\", activation=\"relu\"\n",
        "        )\n",
        "\n",
        "        # self.pos_emb = positional_enc(maxlen, d_model)\n",
        "        self.maxlen = maxlen\n",
        "        self.d_model=d_model\n",
        "\n",
        "  def call(self, x):\n",
        "\n",
        "      x = self.conv1(x)\n",
        "      x = self.conv2(x)\n",
        "      x = self.conv3(x)\n",
        "      self.pos_emb = positional_enc(x.shape[1], self.d_model)\n",
        "      x = tf.math.multiply(x, tf.math.sqrt(tf.cast(self.d_model, tf.float32)))\n",
        "      x = x + self.pos_emb\n",
        "\n",
        "      return x\n",
        "\n",
        "\n",
        "\n",
        "\n"
      ]
    },
    {
      "cell_type": "code",
      "execution_count": null,
      "metadata": {
        "id": "Mxe_-pQ-7py7"
      },
      "outputs": [],
      "source": [
        "class PositionalEmbeddingForDec(tf.keras.layers.Layer):\n",
        "  def __init__(self,vocab_size: int,d_model: int,embedding: tf.keras.layers.Embedding=None):\n",
        "    super().__init__()\n",
        "    self.d_model=d_model\n",
        "    self.embedding=tf.keras.layers.Embedding(vocab_size,d_model,mask_zero=True) if embedding is None else embedding\n",
        "    self.pos_encode=positional_enc(len=vocab_size-1,depth=d_model)\n",
        "  def compute_mask(self,*args,**kargs):\n",
        "    return self.embedding.compute_mask(*args,**kargs)\n",
        "\n",
        "  def call (self, x:tf.Tensor) -> tf.Tensor:\n",
        "\n",
        "    x=self.embedding(x)\n",
        "    len=tf.shape(x)[-1]\n",
        "    x = tf.math.multiply(x, tf.math.sqrt(tf.cast(self.d_model, tf.float32)))\n",
        "    # print(tf.shape(x))\n",
        "    x=x+self.pos_encode[:len,:]\n",
        "    return x"
      ]
    },
    {
      "cell_type": "code",
      "execution_count": null,
      "metadata": {
        "id": "n1sJWvIyR6v9"
      },
      "outputs": [],
      "source": [
        "pos=PositionalEmbedding(100,128)\n",
        "rand_ts=tf.cast(np.random.randint(0,1000,size=(1,128,78)),tf.float32)\n",
        "print(rand_ts)\n",
        "pos(rand_ts)"
      ]
    },
    {
      "cell_type": "code",
      "execution_count": null,
      "metadata": {
        "id": "6TdZNsahS3_D"
      },
      "outputs": [],
      "source": [
        "class BaseAttention(tf.keras.layers.Layer):\n",
        "\n",
        "  def __init__(self,**kargs:dict):\n",
        "    super().__init__()\n",
        "    self.mha=tf.keras.layers.MultiHeadAttention(**kargs)\n",
        "    self.layer_norm=tf.keras.layers.LayerNormalization()\n",
        "    self.add=tf.keras.layers.Add()\n",
        "\n",
        "class CrossAttention(BaseAttention):\n",
        "  def call(self,x:tf.Tensor,context:tf.Tensor)->tf.Tensor:\n",
        "    at_output,at_score=self.mha(query=x,key=context,value=context,return_attention_scores=True)\n",
        "    self.last_at_score=at_score\n",
        "    x=self.add([x,at_output])\n",
        "    x=self.layer_norm(x)\n",
        "    return x\n",
        "\n",
        "class GlobalSelfAttention(BaseAttention):\n",
        "  def call(self,x:tf.Tensor)->tf.Tensor:\n",
        "    at_output=self.mha(query=x,value=x,key=x)\n",
        "    x=self.add([x,at_output])\n",
        "    x=self.layer_norm(x)\n",
        "    return x\n",
        "\n",
        "class MaskSelfAttention(BaseAttention):\n",
        "  def call(self,x:tf.Tensor)->tf.Tensor:\n",
        "    at_output=self.mha(query=x,value=x,key=x,use_causal_mask=True)\n",
        "    x=self.add([x,at_output])\n",
        "    x=self.layer_norm(x)\n",
        "    return x"
      ]
    },
    {
      "cell_type": "code",
      "execution_count": null,
      "metadata": {
        "id": "gDP0Tf8x-_9y"
      },
      "outputs": [],
      "source": [
        "class FeedForward(tf.keras.layers.Layer):\n",
        "  def __init__(self,d_model:int,dff:int,dropout_rate:float=0.1):\n",
        "    super().__init__()\n",
        "    self.seq=tf.keras.Sequential([\n",
        "        tf.keras.layers.Dense(dff,activation='relu'),\n",
        "        tf.keras.layers.Dense(d_model),\n",
        "        tf.keras.layers.Dropout(dropout_rate)\n",
        "        ])\n",
        "    self.add=tf.keras.layers.Add()\n",
        "    self.layer_norm=tf.keras.layers.LayerNormalization()\n",
        "  def call(self,x:tf.Tensor)->tf.Tensor:\n",
        "    x=self.add([x,self.seq(x)])\n",
        "    x=self.layer_norm(x)\n",
        "    return x\n"
      ]
    },
    {
      "cell_type": "code",
      "execution_count": null,
      "metadata": {
        "collapsed": true,
        "id": "s_w4jujgZykq"
      },
      "outputs": [],
      "source": [
        "class EncoderLayer(tf.keras.layers.Layer):\n",
        "  def __init__(self,d_model:int,num_heads: int,dff:int,dropout_rate:float=0.1):\n",
        "    super().__init__()\n",
        "    self.self_attention=GlobalSelfAttention(\n",
        "        num_heads=num_heads,\n",
        "        key_dim=d_model,\n",
        "        dropout=dropout_rate\n",
        "    )\n",
        "    self.ffn=FeedForward(d_model,dff)\n",
        "  def call(self,x: tf.Tensor)->tf.Tensor:\n",
        "    x=self.self_attention(x)\n",
        "    x=self.ffn(x)\n",
        "    return x"
      ]
    },
    {
      "cell_type": "code",
      "execution_count": null,
      "metadata": {
        "id": "edgFDdMq2yw6"
      },
      "outputs": [],
      "source": [
        "from typing_extensions import Self\n",
        "class EncoderBlock(tf.keras.layers.Layer):\n",
        "  def __init__(self,d_model:int,num_heads:int,dff:int,vocab_size:int=128,dropout_rate:float=0.1,num_encoder:int=3):\n",
        "    super().__init__()\n",
        "    self.Enc=[]\n",
        "    self.d_model=d_model\n",
        "    self.num_enc=num_encoder\n",
        "    for i in range(num_encoder):\n",
        "      self.Enc.append(EncoderLayer(d_model=d_model,num_heads=num_heads,dff=dff,dropout_rate=dropout_rate))\n",
        "    self.pos_enc=PositionalEmbedding(d_model=d_model,maxlen=vocab_size)\n",
        "    self.dropout=tf.keras.layers.Dropout(dropout_rate)\n",
        "  def call(self,x:tf.Tensor)->tf.Tensor:\n",
        "    x=self.pos_enc(x)\n",
        "    x=self.dropout(x)\n",
        "    for i in range(self.num_enc):\n",
        "      x=self.Enc[i](x)\n",
        "    return x\n"
      ]
    },
    {
      "cell_type": "code",
      "execution_count": null,
      "metadata": {
        "id": "ez4UWL1o1aK4"
      },
      "outputs": [],
      "source": [
        "class DecoderLayer(tf.keras.layers.Layer):\n",
        "  def __init__(self,d_model:int,num_heads:int,dff:int,dropout_rate:float=0.1):\n",
        "    super(DecoderLayer,self).__init__()\n",
        "    self.mask_at=MaskSelfAttention(num_heads=num_heads,\n",
        "        key_dim=d_model,\n",
        "        dropout=dropout_rate)\n",
        "    self.cross_at=CrossAttention(num_heads=num_heads,\n",
        "        key_dim=d_model,\n",
        "        dropout=dropout_rate)\n",
        "    self.ffn=FeedForward(d_model,dff)\n",
        "  def call(self,x: tf.Tensor,context: tf.Tensor) -> tf.Tensor:\n",
        "    x=self.mask_at(x)\n",
        "    x=self.cross_at(x=x,context=context)\n",
        "    self.last_at_score=self.cross_at.last_at_score\n",
        "    x=self.ffn(x)\n",
        "    return x"
      ]
    },
    {
      "cell_type": "code",
      "execution_count": null,
      "metadata": {
        "id": "-ffro6J2HbQH"
      },
      "outputs": [],
      "source": [
        "class Decoderblock(tf.keras.layers.Layer):\n",
        "  def __init__(self,d_model:int,num_heads:int,dff:int,vocab_size:int=64,dropout_rate:float=0.1,num_decoder:int=3,):\n",
        "    super().__init__()\n",
        "    self.dropout=tf.keras.layers.Dropout(dropout_rate)\n",
        "    self.d_model=d_model\n",
        "    self.last_at_score=None\n",
        "    self.Dec=[]\n",
        "    self.num_dec=num_decoder\n",
        "    for i in range(num_decoder):\n",
        "      self.Dec.append(DecoderLayer(d_model,num_heads,dff,dropout_rate))\n",
        "    self.pos_dec=PositionalEmbeddingForDec(d_model=d_model,vocab_size=vocab_size)\n",
        "  def call(self, x:tf.Tensor,context:tf.Tensor)->tf.Tensor:\n",
        "\n",
        "    x=self.pos_dec(x)\n",
        "    x=self.dropout(x)\n",
        "    for i in range(self.num_dec):\n",
        "      x=self.Dec[i](x,context)\n",
        "    self.last_at_score=self.Dec[-1].last_at_score\n",
        "    return x"
      ]
    },
    {
      "cell_type": "code",
      "execution_count": null,
      "metadata": {
        "id": "TOvqlf4fIop7"
      },
      "outputs": [],
      "source": [
        "class Transformer(keras.Model):\n",
        "  def __init__(\n",
        "      self,\n",
        "      input_vocab_size:int,\n",
        "      target_vocab_size:int,\n",
        "      encoder_input_size: int=None,\n",
        "      decoder_input_size: int=None,\n",
        "      num_layer: int=6,\n",
        "      d_model:int=512,\n",
        "      num_heads:int=8,\n",
        "      dff:int=2048,\n",
        "      num_classes=60,\n",
        "      dropout_rate:float=0.1\n",
        "  ):\n",
        "      super().__init__()\n",
        "      self.loss_metric=keras.metrics.Mean(name=\"loss\")\n",
        "      self.decoder_input_size=decoder_input_size\n",
        "      self.num_classes=num_classes\n",
        "      self.encoder=EncoderBlock(num_encoder=num_layer,d_model=d_model,num_heads=num_heads,dff=dff,vocab_size=input_vocab_size,dropout_rate=dropout_rate)\n",
        "      self.decoder=Decoderblock(num_decoder=num_layer,d_model=d_model,num_heads=num_heads,dff=dff,vocab_size=target_vocab_size,dropout_rate=dropout_rate)\n",
        "      self.classifier=layers.Dense(num_classes)\n",
        "\n",
        "  def call(self, inputs, training):\n",
        "        source = inputs[0]\n",
        "        target = inputs[1]\n",
        "        x = self.encoder(source)\n",
        "        y = self.decoder(target,x)\n",
        "        return self.classifier(y)\n",
        "  @property\n",
        "  def metrics(self):\n",
        "        return [self.loss_metric]\n",
        "  def train_step(self, batch):\n",
        "        source = batch[0]\n",
        "        target = batch[1]\n",
        "\n",
        "        input_shape = tf.shape(target)\n",
        "        batch_size = input_shape[0]\n",
        "\n",
        "        dec_input = target[:, :-1]\n",
        "        dec_target = target[:, 1:]\n",
        "        with tf.GradientTape() as tape:\n",
        "            preds = self([source, dec_input])\n",
        "            one_hot = tf.one_hot(dec_target, depth=self.num_classes)\n",
        "            mask = tf.math.logical_not(tf.math.equal(dec_target, pad_token_idx))\n",
        "            loss = self.compiled_loss(one_hot, preds, sample_weight=mask)\n",
        "        trainable_vars = self.trainable_variables\n",
        "        gradients = tape.gradient(loss, trainable_vars)\n",
        "        self.optimizer.apply_gradients(zip(gradients, trainable_vars))\n",
        "        self.loss_metric.update_state(loss)\n",
        "        return {\"loss\": self.loss_metric.result()}\n",
        "  def test_step(self, batch):\n",
        "        source = batch[0]\n",
        "        target = batch[1]\n",
        "\n",
        "        input_shape = tf.shape(target)\n",
        "        batch_size = input_shape[0]\n",
        "\n",
        "        dec_input = target[:, :-1]\n",
        "        dec_target = target[:, 1:]\n",
        "        preds = self([source, dec_input])\n",
        "        one_hot = tf.one_hot(dec_target, depth=self.num_classes)\n",
        "        mask = tf.math.logical_not(tf.math.equal(dec_target, pad_token_idx))\n",
        "        loss = self.compiled_loss(one_hot, preds, sample_weight=mask)\n",
        "        self.loss_metric.update_state(loss)\n",
        "        return {\"loss\": self.loss_metric.result() }\n",
        "  def generate(self, batch):\n",
        "        source=batch[0]\n",
        "        target=batch[1]\n",
        "        target_numpy=target.numpy()\n",
        "        input_shape = tf.shape(target)\n",
        "        batch_size = input_shape[0]\n",
        "        pred_list=[]\n",
        "        dec_input = target[:, :-1]\n",
        "        dec_target = target[:, 1:]\n",
        "        print((-1 in dec_input.numpy()))\n",
        "        preds = self([source, dec_input])\n",
        "        preds_numpy=preds.numpy()\n",
        "        for i in range(batch_size):\n",
        "\n",
        "          target_text = \"\".join([self.idx_to_char[_] for _ in target_numpy[i,:] ])\n",
        "          text=target_text.replace('P', '')\n",
        "          n=len(text)\n",
        "          prediction = \"\"\n",
        "          for idx in preds_numpy[i,:]:\n",
        "            logits = tf.argmax(idx, axis=-1, output_type=tf.int32)\n",
        "            if tf.rank(logits) > 0:\n",
        "              last_logit = logits[:, -1][..., tf.newaxis]\n",
        "            else:\n",
        "              last_logit = logits[..., tf.newaxis]\n",
        "            prediction += self.idx_to_char[logits]\n",
        "            if prediction[-1] == 'E':\n",
        "              break\n",
        "          pred_list.append(prediction)\n",
        "        return pred_list\n",
        "\n"
      ]
    },
    {
      "cell_type": "code",
      "execution_count": null,
      "metadata": {
        "id": "PcK5DyjzMTiu"
      },
      "outputs": [],
      "source": [
        "batch = next(iter(val_dataset))\n",
        "idx_to_char = list(char_to_num.keys())\n",
        "\n",
        "model = Transformer(\n",
        "    d_model=100,\n",
        "    num_heads=6,\n",
        "    dff=200,\n",
        "    encoder_input_size= FRAME_LEN,\n",
        "    decoder_input_size=64,\n",
        "    num_layer=4,\n",
        "    num_classes=62,\n",
        "    input_vocab_size=128,\n",
        "    target_vocab_size=64,\n",
        "    dropout_rate=0.1\n",
        ")\n",
        "\n",
        "\n",
        "loss_fn = tf.keras.losses.CategoricalCrossentropy(from_logits=True, label_smoothing=0.1)\n",
        "\n",
        "\n",
        "optimizer = keras.optimizers.Adam(0.0001)\n",
        "model.compile(optimizer=optimizer, loss=loss_fn)"
      ]
    },
    {
      "cell_type": "code",
      "execution_count": null,
      "metadata": {
        "colab": {
          "base_uri": "https://localhost:8080/"
        },
        "id": "Zt-fctf2NG-r",
        "outputId": "4d95bb90-2d25-4580-a2da-e8686604e01d"
      },
      "outputs": [
        {
          "output_type": "stream",
          "name": "stdout",
          "text": [
            "Epoch 1/20\n",
            "1520/1520 - 376s - loss: 0.7868 - val_loss: 0.6817 - 376s/epoch - 247ms/step\n",
            "Epoch 2/20\n",
            "1520/1520 - 104s - loss: 0.6180 - val_loss: 0.5671 - 104s/epoch - 68ms/step\n",
            "Epoch 3/20\n",
            "1520/1520 - 104s - loss: 0.5377 - val_loss: 0.5175 - 104s/epoch - 69ms/step\n",
            "Epoch 4/20\n",
            "1520/1520 - 103s - loss: 0.4934 - val_loss: 0.4838 - 103s/epoch - 68ms/step\n",
            "Epoch 5/20\n",
            "1520/1520 - 103s - loss: 0.4670 - val_loss: 0.4646 - 103s/epoch - 68ms/step\n",
            "Epoch 6/20\n",
            "1520/1520 - 104s - loss: 0.4494 - val_loss: 0.4579 - 104s/epoch - 68ms/step\n",
            "Epoch 7/20\n",
            "1520/1520 - 103s - loss: 0.4362 - val_loss: 0.4460 - 103s/epoch - 68ms/step\n",
            "Epoch 8/20\n",
            "1520/1520 - 103s - loss: 0.4253 - val_loss: 0.4373 - 103s/epoch - 68ms/step\n",
            "Epoch 9/20\n",
            "1520/1520 - 103s - loss: 0.4162 - val_loss: 0.4298 - 103s/epoch - 68ms/step\n",
            "Epoch 10/20\n",
            "1520/1520 - 103s - loss: 0.4081 - val_loss: 0.4319 - 103s/epoch - 68ms/step\n",
            "Epoch 11/20\n",
            "1520/1520 - 103s - loss: 0.4010 - val_loss: 0.4230 - 103s/epoch - 68ms/step\n",
            "Epoch 12/20\n",
            "1520/1520 - 103s - loss: 0.3947 - val_loss: 0.4174 - 103s/epoch - 68ms/step\n",
            "Epoch 13/20\n",
            "1520/1520 - 103s - loss: 0.3892 - val_loss: 0.4162 - 103s/epoch - 68ms/step\n",
            "Epoch 14/20\n",
            "1520/1520 - 103s - loss: 0.3841 - val_loss: 0.4137 - 103s/epoch - 68ms/step\n",
            "Epoch 15/20\n",
            "1520/1520 - 104s - loss: 0.3792 - val_loss: 0.4119 - 104s/epoch - 68ms/step\n",
            "Epoch 16/20\n",
            "1520/1520 - 103s - loss: 0.3747 - val_loss: 0.4106 - 103s/epoch - 68ms/step\n",
            "Epoch 17/20\n",
            "1520/1520 - 103s - loss: 0.3702 - val_loss: 0.4072 - 103s/epoch - 68ms/step\n",
            "Epoch 18/20\n",
            "1520/1520 - 103s - loss: 0.3663 - val_loss: 0.4092 - 103s/epoch - 68ms/step\n",
            "Epoch 19/20\n",
            "1520/1520 - 103s - loss: 0.3625 - val_loss: 0.4101 - 103s/epoch - 68ms/step\n",
            "Epoch 20/20\n",
            "1520/1520 - 103s - loss: 0.3586 - val_loss: 0.4093 - 103s/epoch - 68ms/step\n"
          ]
        }
      ],
      "source": [
        "with tf.device('/device:GPU:0'):\n",
        "  history = model.fit(train_dataset, verbose = 2, validation_data=val_dataset, epochs=20)"
      ]
    },
    {
      "cell_type": "code",
      "execution_count": null,
      "metadata": {
        "id": "7Qj2_IdPYWHd"
      },
      "outputs": [],
      "source": [
        "model.save_weights(f'{inpdir}/model_weights/modeltestlast')"
      ]
    },
    {
      "cell_type": "code",
      "execution_count": null,
      "metadata": {
        "colab": {
          "base_uri": "https://localhost:8080/"
        },
        "id": "SZzOOrvtogJ3",
        "outputId": "b91babf9-e232-46d8-dbb5-cfaf6166debe"
      },
      "outputs": [
        {
          "output_type": "stream",
          "name": "stdout",
          "text": [
            "Model: \"transformer_3\"\n",
            "_________________________________________________________________\n",
            " Layer (type)                Output Shape              Param #   \n",
            "=================================================================\n",
            " encoder_block_3 (EncoderBl  multiple                  2339000   \n",
            " ock)                                                            \n",
            "                                                                 \n",
            " decoderblock_3 (Decoderblo  multiple                  2264400   \n",
            " ck)                                                             \n",
            "                                                                 \n",
            " dense_51 (Dense)            multiple                  12462     \n",
            "                                                                 \n",
            "=================================================================\n",
            "Total params: 4615864 (17.61 MB)\n",
            "Trainable params: 4615862 (17.61 MB)\n",
            "Non-trainable params: 2 (8.00 Byte)\n",
            "_________________________________________________________________\n"
          ]
        }
      ],
      "source": [
        "model.summary()"
      ]
    },
    {
      "cell_type": "code",
      "execution_count": null,
      "metadata": {
        "id": "8NYG3rLLorgk",
        "colab": {
          "base_uri": "https://localhost:8080/",
          "height": 472
        },
        "outputId": "117f0d3c-5ceb-4241-9882-bf1ce4f62b0d"
      },
      "outputs": [
        {
          "output_type": "display_data",
          "data": {
            "text/plain": [
              "<Figure size 640x480 with 1 Axes>"
            ],
            "image/png": "[encoded data removed]"
          },
          "metadata": {}
        }
      ],
      "source": [
        "plt.plot(history.history['loss'],c='b')\n",
        "plt.plot(history.history['val_loss'],c='y')\n",
        "plt.title('Loss')\n",
        "plt.ylabel('loss')\n",
        "plt.xlabel('epoch')\n",
        "plt.legend(['train', 'test'], loc='upper left')\n",
        "plt.show()"
      ]
    }
  ],
  "metadata": {
    "colab": {
      "provenance": [],
      "machine_shape": "hm",
      "gpuType": "A100"
    },
    "kernelspec": {
      "display_name": "Python 3",
      "name": "python3"
    },
    "language_info": {
      "name": "python"
    },
    "accelerator": "GPU"
  },
  "nbformat": 4,
  "nbformat_minor": 0
}